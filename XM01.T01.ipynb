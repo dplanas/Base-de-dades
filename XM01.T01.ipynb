{
 "cells": [
  {
   "cell_type": "markdown",
   "id": "fdb0a3ee",
   "metadata": {},
   "source": [
    "![Images](Images/ITAcademy.png)\n",
    "# CIÈNCIA DE DADES: M01.T01\n",
    "#### Created by: Dani Planas Montserrat\n"
   ]
  },
  {
   "cell_type": "code",
   "execution_count": 1,
   "id": "beb6ddc4",
   "metadata": {
    "code_folding": [],
    "run_control": {
     "marked": true
    },
    "scrolled": false
   },
   "outputs": [],
   "source": [
    "\n",
    "# import libraries\n",
    "import numpy as np\n",
    "import pandas as pd\n",
    "import matplotlib.pyplot as plt\n",
    "import seaborn as sns\n",
    "import warnings\n",
    "import re\n",
    "import statistics\n",
    "#Import library MySql\n",
    "import mysql.connector\n",
    "\n",
    "\n",
    "# Import Library\n",
    "from ip2geotools.databases.noncommercial import DbIpCity\n",
    "\n",
    "\n",
    "warnings.filterwarnings('ignore')\n"
   ]
  },
  {
   "cell_type": "code",
   "execution_count": 2,
   "id": "eb266d2d",
   "metadata": {
    "code_folding": [
     0,
     4,
     12,
     20
    ],
    "run_control": {
     "marked": true
    }
   },
   "outputs": [],
   "source": [
    "#************************************************************************************\n",
    "#***************************     READ Files Functions      **************************\n",
    "#************************************************************************************\n",
    "#Function for Read *.csv file (Import Data)\n",
    "def openFileTXT(path_name):\n",
    "    \n",
    "    # Read *.csv file (Import Data)\n",
    "    df = pd.read_csv(path_name, sep='::', names=movie_column_l, encoding = 'ISO-8859-1', index_col=0, engine='python')\n",
    "\n",
    "    return df\n",
    "\n",
    "#Function for Read *.txt file (Import Data)\n",
    "def openFileTable(path_name, file_name, separator, movie_column_l):\n",
    "\n",
    "    # Read *.txt file (Import Data)\n",
    "    df = pd.read_table(path_name + file_name, sep=separator, names=movie_column_l, header=None,  engine='python')\n",
    "    \n",
    "    return df\n",
    "\n",
    "#Function for Read *.parquet file (Import Data)\n",
    "def openFileParquet(path_name, file_name):\n",
    "    \n",
    "    #Import library pyarrow for read files with extenison \"parquet\" \n",
    "    import pyarrow \n",
    "    # Read *.txt file (Import Data)\n",
    "    #df = pd.read_table(path_name + file_name, sep=separator, names=movie_column_l, header=None,  engine='python')\n",
    "    df = pd.read_parquet(path_name + file_name, engine='pyarrow')\n",
    "    \n",
    "    return df\n",
    "\n",
    "\n"
   ]
  },
  {
   "cell_type": "code",
   "execution_count": 3,
   "id": "638e8ab1",
   "metadata": {
    "code_folding": [
     0,
     4,
     24,
     43,
     61,
     78,
     95,
     111,
     167
    ],
    "run_control": {
     "marked": true
    }
   },
   "outputs": [],
   "source": [
    "#************************************************************************************\n",
    "#******************************      PLOT Functions     *****************************\n",
    "#************************************************************************************\n",
    "#Function plot, type Histogram (one categoric value)\n",
    "def plotHistogram(df):\n",
    "    \n",
    "    # create a dataset\n",
    "    height = df\n",
    "    bars = df.index\n",
    "    x_pos = np.arange(len(bars))\n",
    "\n",
    "    # Create bars with different colors\n",
    "    #plt.bar(x_pos, height, color=['black', 'red', 'green', 'blue', 'cyan'])\n",
    "    plt.bar(x_pos, height, color=['green'])\n",
    "    # Create names on the x-axis\n",
    "    plt.xticks(x_pos,bars)\n",
    "\n",
    "    # Show graphic\n",
    "    fig = plt.gcf()\n",
    "    plt.show()\n",
    "\n",
    "    return fig\n",
    "\n",
    "#Function plot, type Histogram (one Numeric value)\n",
    "def plotHistogram2(df,paramNum):\n",
    "    \n",
    "    # create a dataset\n",
    "    height = df[paramNum]\n",
    "    bars = df.index\n",
    "    x_pos = np.arange(len(bars))\n",
    "\n",
    "    # Create bars with different colors\n",
    "    #plt.bar(x_pos, height, color=['black', 'red', 'green', 'blue', 'cyan'])\n",
    "    plt.bar(x_pos, height, color=['yellow'])\n",
    "    # Create names on the x-axis\n",
    "    plt.xticks(x_pos,bars)\n",
    "\n",
    "    # Show graphic\n",
    "    fig = plt.gcf()\n",
    "    plt.show()\n",
    "\n",
    "    return fig\n",
    "\n",
    "def plotDensityPlot(df):\n",
    "    # library & dataset\n",
    "    import seaborn as sns\n",
    "    \n",
    "    # set a grey background (use sns.set_theme() if seaborn version 0.11.0 or above) \n",
    "    sns.set(style=\"darkgrid\")\n",
    "\n",
    "    # plotting both distibutions on the same figure\n",
    "    fig = sns.kdeplot(df, shade=True, color=\"r\")\n",
    "    #fig = sns.kdeplot(df[paramNum2], shade=True, color=\"b\")\n",
    "\n",
    "    # Show graphic\n",
    "    fig = plt.gcf()\n",
    "    plt.show()\n",
    "\n",
    "    return fig\n",
    "\n",
    "#Function plot, with Seaborn Library and type ScatterPlot\n",
    "def plotSnsScatterplot(df, paramNum1, paramNum2, title, ylabel, xlabel):\n",
    "\n",
    "    g = sns.FacetGrid(df)\n",
    "    g.map(sns.scatterplot, paramNum1, paramNum2, alpha=.7)\n",
    "    g.add_legend()\n",
    "\n",
    "    plt.title(title)\n",
    "    plt.ylabel(ylabel)\n",
    "    plt.xlabel(xlabel)\n",
    "    \n",
    "    # Show graphic\n",
    "    fig = plt.gcf()\n",
    "    plt.show()\n",
    "\n",
    "    return fig\n",
    "\n",
    "#Function plot, with Seaborn Library and type LinePlot\n",
    "def plotSnsLineplot(df, paramNum1, paramNum2, title, ylabel, xlabel):\n",
    "\n",
    "    g = sns.FacetGrid(df)\n",
    "    g.map(sns.lineplot, paramNum1, paramNum2, alpha=.7)\n",
    "    g.add_legend()\n",
    "    \n",
    "    plt.title(title)\n",
    "    plt.ylabel(ylabel)\n",
    "    plt.xlabel(xlabel)\n",
    "    \n",
    "    # Show graphic\n",
    "    fig = plt.gcf()\n",
    "    plt.show()\n",
    "\n",
    "    return fig\n",
    "\n",
    "#Function plot, with Seaborn Library and type HistPlot\n",
    "def plotSnsHistplot(df, paramNum1, title, ylabel, xlabel, binsNum):\n",
    "  \n",
    "    sns.histplot(data=df, x=paramNum1, bins=binsNum, kde=True)\n",
    "    #g.add_legend()\n",
    "    \n",
    "    plt.title(title)\n",
    "    plt.ylabel(ylabel)\n",
    "    plt.xlabel(xlabel)\n",
    "    \n",
    "    # Show graphic\n",
    "    fig = plt.gcf()\n",
    "    plt.show()\n",
    "\n",
    "    return fig\n",
    "\n",
    "#Function plot, type Stacked Area Chart (with 3 numeric values and 1 categoric value)   \n",
    "def plotBarplotMultiple(df, paramNum1, paramNum2, paramNum3, Sel3):\n",
    "        # libraries\n",
    "        import numpy as np\n",
    "        import matplotlib.pyplot as plt\n",
    "\n",
    "        # width of the bars\n",
    "        barWidth = 0.3\n",
    "        \n",
    "        # Choose the height of the blue bars\n",
    "        bars1 = df\n",
    "\n",
    "        if (Sel3 == 2):\n",
    "            # Choose the height of the cyan bars\n",
    "            bars2 = df[paramNum2] \n",
    "\n",
    "        if (Sel3 == 3):\n",
    "            # Choose the height of the cyan bars\n",
    "            bars3 = df[paramNum3] \n",
    "        \n",
    "        # Choose the height of the error bars (bars1)\n",
    "        yer1 = np.arange(len(bars1))\n",
    "\n",
    "        # Choose the height of the error bars (bars2)\n",
    "        yer2 = np.arange(len(bars1))\n",
    "        \n",
    "        #print(title) by groups of bars\n",
    "        title = df.index \n",
    "        \n",
    "        # The x position of bars\n",
    "        r1 = np.arange(len(bars1))\n",
    "        r2 = [x + barWidth for x in r1]\n",
    "        r3 = [x + barWidth for x in r2]\n",
    "\n",
    "        # Create blue bars\n",
    "        plt.bar(r1, bars1, width = barWidth, color = 'yellow', edgecolor = 'black', yerr=yer1, capsize=5, label=paramNum1)\n",
    "        \n",
    "        if (Sel3 == 2):\n",
    "            # Create cyan bars\n",
    "            plt.bar(r2, bars2, width = barWidth, color = 'yellow', edgecolor = 'black', yerr=yer2, capsize=7, label=paramNum2)\n",
    "\n",
    "        if (Sel3 == 3):\n",
    "             # Create cyan bars\n",
    "             plt.bar(r3, bars3, width = barWidth, color = 'green', edgecolor = 'black', yerr=yer2, capsize=7, label=paramNum3)\n",
    "   \n",
    "        # general layout\n",
    "        plt.xticks([r + barWidth for r in range(len(bars1))], title)\n",
    "        plt.ylabel('height')\n",
    "        #plt.legend()\n",
    "\n",
    "        # Show graphic\n",
    "        fig = plt.gcf()\n",
    "        plt.show()\n",
    "\n",
    "        return fig\n",
    "\n",
    "#Function plot, show a World Map with Geolocation points from a dataset\n",
    "def plotWorldMapGeolocPoints(df, pLatitud, pLongitud):\n",
    "\n",
    "        bars3 = df[pLatitud] \n",
    "\n",
    "        #Dibujar mapas\n",
    "        from mpl_toolkits.basemap.test import Basemap\n",
    "        import matplotlib.pyplot as plt\n",
    "\n",
    "\n",
    "        #Figure Size\n",
    "        plt.figure(figsize=(16,12))\n",
    "\n",
    "        #Projection Type : robin, ortho ...\n",
    "        my_map=Basemap(projection='robin',lon_0=0,lat_0=0)  #'robin' ,'ortho'\n",
    "\n",
    "        #Draw cost lines and countries\n",
    "        my_map.drawcoastlines()\n",
    "        my_map.drawcountries()\n",
    "\n",
    "        #Define colours\n",
    "        my_map.drawcountries(color='#303338')\n",
    "        my_map.drawmapboundary(fill_color='#c0eaff')\n",
    "        my_map.drawcoastlines(color='#324c87')\n",
    "        my_map.fillcontinents(color='#ebe7d5', lake_color='#c0eaff')\n",
    "\n",
    "\n",
    "        #Place the different locations on the map\n",
    "        for i in range(len(df[pLongitud])):     \n",
    "            x,y = my_map(df[pLongitud][i], df[pLatitud][i])\n",
    "            my_map.plot(x,y, color='g', marker = 'o' , markersize=10 , alpha = 0.9)\n",
    "\n",
    "        return my_map\n",
    "    "
   ]
  },
  {
   "cell_type": "code",
   "execution_count": 4,
   "id": "f1e26d58",
   "metadata": {
    "code_folding": [
     0,
     5
    ],
    "run_control": {
     "marked": false
    }
   },
   "outputs": [],
   "source": [
    "#************************************************************************************\n",
    "#***************************     GEOLOCATION Functions     **************************\n",
    "#************************************************************************************\n",
    "\n",
    "/#Function that give us information on the location of an IP adress (Country, latitude, altitude,..)\n",
    "def getInfoGeolocation(x, num):\n",
    "    \n",
    "\n",
    "    \n",
    "    response = DbIpCity.get(x, api_key='free')\n",
    "    \n",
    "    #(1) Return Name of country\n",
    "    if num==1:\n",
    "        exit = response.country\n",
    "    #(2) Return Name of country\n",
    "    if num==2:\n",
    "        exit = response.latitude\n",
    "    #(3) Return Name of country\n",
    "    if num==3:\n",
    "        exit = response.longitude\n",
    "   \n",
    "    #ip = str(dfLogWeb['IP'][1])\n",
    "    #response = DbIpCity.get(ip, api_key='free')\n",
    "    #response.ip_address\n",
    "    #print(response.city)\n",
    "    #print(response.region)\n",
    "    #print(response.country)\n",
    "\n",
    "    #print(response.latitude)\n",
    "    #print(response.longitude)\n",
    "    #print(response.to_json())\n",
    "    return exit\n",
    "\n"
   ]
  },
  {
   "cell_type": "code",
   "execution_count": 5,
   "id": "61736a52",
   "metadata": {
    "code_folding": [
     0,
     4,
     10,
     17,
     50
    ],
    "run_control": {
     "marked": false
    }
   },
   "outputs": [],
   "source": [
    "#************************************************************************************\n",
    "#***************************        SAMPLE Functions       **************************\n",
    "#************************************************************************************\n",
    "#Function for doing a Simple Random Sampling from a dataset\n",
    "def simpleSampling(df, num_sample):\n",
    "    \n",
    "    dfSample = df.sample(num_sample)          # Select X sample points from dataset\n",
    "    return dfSample                           # Return result\n",
    "\n",
    "# Function for doing a Systematic Sampling from dataset\n",
    "def systematicSampling(df, start, step):\n",
    " \n",
    "    indexes = np.arange(start, len(df), step=step)\n",
    "    systematic_sample = df.iloc[indexes]\n",
    "    return systematic_sample\n",
    "\n",
    "# Function for doing a Stratified Sampling from dataset (able for 3 subgroups)\n",
    "def stratifiedSampling3Group(df, group, subgName1, subgName2, subgName3, samplePercentage):\n",
    " \n",
    "    # STEP1: Divide de Group in subgroups (STRATA)\n",
    "    group1_df = df.groupby(group)\n",
    "    group1_df = group1_df.get_group(subgName1)\n",
    "    nReg_group1 = len(group1_df)\n",
    "#   print('Regsitros Grupo 1:', nReg_group1)\n",
    "#   display(group1_df)\n",
    "\n",
    "    group2_df = df.groupby(group)\n",
    "    group2_df = group2_df.get_group(subgName2)\n",
    "    nReg_group2 = len(group2_df)\n",
    "#   print('Regsitros Grupo 2:', nReg_group2)\n",
    "#   display(group2_df)\n",
    "\n",
    "    group3_df = df.groupby(group)\n",
    "    group3_df = group3_df.get_group(subgName3)\n",
    "    nReg_group3 = len(group3_df)\n",
    "#   print('Regsitros Grupo 3:', nReg_group3)\n",
    "#   display(group3_df)\n",
    "    \n",
    "    # STEP 2: get a percentage from each group\n",
    "    group11_df = group1_df.groupby(group, group_keys=False).apply(lambda x: x.sample(frac=samplePercentage))\n",
    "    group12_df = group2_df.groupby(group, group_keys=False).apply(lambda x: x.sample(frac=samplePercentage))\n",
    "    group13_df = group3_df.groupby(group, group_keys=False).apply(lambda x: x.sample(frac=samplePercentage))\n",
    "\n",
    "    # STEP 3: \n",
    "    dfNew = pd.concat([group11_df, group12_df])\n",
    "    dfNew = pd.concat([dfNew, group13_df])\n",
    "\n",
    "    return dfNew\n",
    "\n",
    "# Function for doing a Systematic Sampling from dataset\n",
    "def reservoirSampling(df, k):\n",
    "          \n",
    "    #Import library\n",
    "    import random\n",
    "    \n",
    "    # Create as stream generator\n",
    "    #stream = dfRunners20['athlete']\n",
    "    stream = df.index\n",
    "    # Doing Reservoir Sampling from the stream\n",
    "    #k=6\n",
    "    reservoir = []\n",
    "    for i, element in enumerate(stream):\n",
    "        if i+1<= k:\n",
    "            reservoir.append(element)\n",
    "        else:\n",
    "            probability = k/(i+1)\n",
    "            if random.random() < probability:\n",
    "                # Select item in stream and remove one of the k items already selected\n",
    "                 reservoir[random.choice(range(0,k))] = element\n",
    "\n",
    "    print(reservoir)\n",
    "    print(len(reservoir))\n",
    "\n",
    "    #Define new dataframe\n",
    "    df_Sample = pd.DataFrame()\n",
    "\n",
    "    #Create a New dataframe with values selected from reservoir sampling\n",
    "    for i in range(len(reservoir)):\n",
    "        num = reservoir[i]\n",
    "        df_Sample = df_Sample.append(df.loc[num],ignore_index=True)\n",
    "        \n",
    "    return df_Sample"
   ]
  },
  {
   "cell_type": "code",
   "execution_count": 9,
   "id": "d7c62715",
   "metadata": {
    "code_folding": [
     0
    ]
   },
   "outputs": [],
   "source": [
    "#************************************************************************************\n",
    "#********************          HIPOTESIS TEST Functions          ********************\n",
    "#************************************************************************************"
   ]
  },
  {
   "cell_type": "code",
   "execution_count": 2,
   "id": "730eeff4",
   "metadata": {
    "code_folding": [],
    "run_control": {
     "marked": true
    }
   },
   "outputs": [
    {
     "name": "stdout",
     "output_type": "stream",
     "text": [
      "('information_schema',)\n",
      "('movies',)\n",
      "('mydatabase',)\n",
      "('mysql',)\n",
      "('performance_schema',)\n",
      "('sakila',)\n",
      "('sgae_practica',)\n",
      "('sys',)\n",
      "('world',)\n"
     ]
    }
   ],
   "source": [
    "##########################################################################\n",
    "##                 DATA SCIENCE: M01.T01: Exercici 1                    ##\n",
    "##########################################################################\n",
    "# Exercici 1: A partir dels documents adjunts (estructura i dades), \n",
    "# crea una base de dades amb MySQL. Mostra les característiques principals \n",
    "# de l'esquema creat i explica les diferents taules i variables que hi ha.\n",
    "\n",
    "import mysql.connector\n",
    "\n",
    "mydb = mysql.connector.connect(\n",
    "  host=\"localhost\",\n",
    "  user=\"dplanas\",\n",
    "  password=\"Mysql*4455\"\n",
    ")\n",
    "\n",
    "mycursor = mydb.cursor()\n",
    "\n",
    "\n",
    "# Show a list of Databases that exist's\n",
    "mycursor.execute(\"SHOW DATABASES\")\n",
    "\n",
    "for x in mycursor:\n",
    "  print(x)"
   ]
  },
  {
   "cell_type": "code",
   "execution_count": 4,
   "id": "fca284b7",
   "metadata": {
    "code_folding": []
   },
   "outputs": [],
   "source": [
    "#Create a New databse if doesn't exist\n",
    "mycursor.execute(\"CREATE DATABASE movies\")"
   ]
  },
  {
   "cell_type": "code",
   "execution_count": 18,
   "id": "3e030b0e",
   "metadata": {},
   "outputs": [],
   "source": [
    "#Create a Table tb_genre\n",
    "mycursor.execute(\"CREATE TABLE movies.tb_genre (genre_id INT NOT NULL, genre_name VARCHAR(40), CONSTRAINT pk_movie PRIMARY KEY (genre_id))\")"
   ]
  },
  {
   "cell_type": "code",
   "execution_count": 9,
   "id": "7adbdb6b",
   "metadata": {},
   "outputs": [],
   "source": [
    "#Create a Table tb_movie\n",
    "mycursor.execute(\"CREATE TABLE movies.tb_movie (movie_id INTEGER NOT NULL, movie_title CHARACTER VARYING(100) NOT NULL, movie_date DATE, movie_format CHARACTER VARYING(50), movie_genre_id INTEGER, CONSTRAINT pk_movie PRIMARY KEY (movie_id), CONSTRAINT fk_movie_genre FOREIGN KEY (movie_genre_id) REFERENCES movies.tb_genre (genre_id))\")"
   ]
  },
  {
   "cell_type": "code",
   "execution_count": 11,
   "id": "69bcf979",
   "metadata": {},
   "outputs": [],
   "source": [
    "#Create a Table tb_role\n",
    "mycursor.execute(\"CREATE TABLE movies.tb_role (role_id INTEGER NOT NULL, role_name CHARACTER VARYING(60) NOT NULL, CONSTRAINT pk_role PRIMARY KEY (role_id))\")"
   ]
  },
  {
   "cell_type": "code",
   "execution_count": 12,
   "id": "5d1b6a41",
   "metadata": {},
   "outputs": [],
   "source": [
    "mycursor.execute(\"CREATE TABLE movies.tb_person (person_id INTEGER NOT NULL, person_name CHARACTER VARYING(100) NOT NULL, person_country CHARACTER VARYING(40),  person_dob DATE NOT NULL, person_dod DATE, person_parent_id INTEGER, CONSTRAINT pk_person PRIMARY KEY (person_id), CONSTRAINT fk_person_parent FOREIGN KEY (person_parent_id) REFERENCES movies.tb_person (person_id))\")  "
   ]
  },
  {
   "cell_type": "code",
   "execution_count": 13,
   "id": "3067d86e",
   "metadata": {},
   "outputs": [],
   "source": [
    "mycursor.execute(\"CREATE TABLE movies.tb_movie_person (movie_id INTEGER NOT NULL, person_id INTEGER NOT NULL, role_id INTEGER NOT NULL, movie_award_ind  CHAR(1) NOT NULL, CONSTRAINT pk_movper PRIMARY KEY (movie_id, person_id, role_id), CONSTRAINT fk_movper_movie FOREIGN KEY (movie_id) REFERENCES movies.tb_movie (movie_id), CONSTRAINT fk_movper_person FOREIGN KEY (person_id) REFERENCES movies.tb_person (person_id), CONSTRAINT fk_movper_role FOREIGN KEY (role_id) REFERENCES movies.tb_role (role_id))\") "
   ]
  },
  {
   "cell_type": "code",
   "execution_count": 16,
   "id": "84b34290",
   "metadata": {},
   "outputs": [
    {
     "name": "stdout",
     "output_type": "stream",
     "text": [
      "10 was inserted.\n"
     ]
    }
   ],
   "source": [
    "#Insert values in Table tb_genre \n",
    "mycursor = mydb.cursor()\n",
    "sql = \"INSERT INTO movies.tb_genre (genre_id, genre_name) VALUES (%s, %s)\"\n",
    "val = [   \n",
    "    ( 2, 'Ciencia Ficción'),\n",
    "    ( 3, 'Comedia'),\n",
    "    ( 4, 'Drama'),\n",
    "    ( 5, 'Fantasía'),\n",
    "    ( 6, 'Melodrama'),\n",
    "    ( 7, 'Musical'),\n",
    "    ( 8, 'Romance'),\n",
    "    ( 9, 'Suspense'),\n",
    "    (10, 'Terror'),\n",
    "    (11, 'Bélico')\n",
    "]\n",
    "\n",
    "mycursor.executemany(sql, val)\n",
    "mydb.commit()\n",
    "\n",
    "print(mycursor.rowcount, \"was inserted.\")"
   ]
  },
  {
   "cell_type": "code",
   "execution_count": 17,
   "id": "13bae453",
   "metadata": {},
   "outputs": [
    {
     "name": "stdout",
     "output_type": "stream",
     "text": [
      "16 was inserted.\n"
     ]
    }
   ],
   "source": [
    "#Insert values in Table tb_movie\n",
    "mycursor = mydb.cursor()\n",
    "sql = \"INSERT INTO movies.tb_movie (movie_id, movie_title, movie_date, movie_format, movie_genre_id) VALUES (%s, %s, %s, %s, %s)\"\n",
    "val = [   \n",
    "    ( 1, 'Apocalypse Now', '1979-05-10', 'Film', 11),\n",
    "    ( 2, 'Star Wars:Episode IV - A New Hope', '1977-05-25', 'Film', 2),\n",
    "    ( 3, 'Indiana Jones and the Temple of Doom', '1984-05-08', 'Film', 1),\n",
    "    ( 4, 'The Terminal', '2004-06-18', 'Digital', 3),\n",
    "    ( 5, 'Jaws', '1975-01-01', 'Film', 10),\n",
    "    ( 6, 'ET The Extraterrestrial', '1982-07-25', 'Film', 5),\n",
    "    ( 7, 'Psycho', '1960-05-06', 'Film', 9),\n",
    "    ( 8, 'Ocho Apellidos Vascos', '2014-03-14', 'Digital', 3),\n",
    "    ( 9, 'Ocho Apellidos Catalanes', '2016-06-09', 'Digital', 8),\n",
    "    (10, 'El otro lado de la cama', '2002-09-04', 'Digital', 8),\n",
    "    (11, 'La Gran Familia Española', '2012-10-15', 'Digital', 3),\n",
    "    (12, 'El dia de la bestia', '1994-12-25', 'Film', 1),\n",
    "    (13, 'Braveheart', '1995-08-08', 'Film', 4),\n",
    "    (14, 'The Shawshank Redemption', '1992-01-07', 'Film', 4),\n",
    "    (15, 'Las brujas de Zugarramurdi', '2009-10-07', 'Digital', 9),\n",
    "    (16, 'Blade Runner', '1982-12-25', 'Digital', 2)\n",
    "]\n",
    "\n",
    "mycursor.executemany(sql, val)\n",
    "mydb.commit()\n",
    "\n",
    "print(mycursor.rowcount, \"was inserted.\")"
   ]
  },
  {
   "cell_type": "code",
   "execution_count": 18,
   "id": "3c3bf476",
   "metadata": {
    "code_folding": [
     0
    ],
    "run_control": {
     "marked": false
    }
   },
   "outputs": [
    {
     "name": "stdout",
     "output_type": "stream",
     "text": [
      "5 was inserted.\n"
     ]
    }
   ],
   "source": [
    "#Insert values in Table tb_role\n",
    "mycursor = mydb.cursor()\n",
    "sql = \"INSERT INTO movies.tb_role (role_id, role_name) VALUES (%s, %s)\"\n",
    "val = [   \n",
    "    ( 1, 'Actor'),\n",
    "    ( 2, 'Director'),\n",
    "    ( 3, 'Productor'),\n",
    "    ( 4, 'Guionista'),\n",
    "    ( 5, 'Música')\n",
    "]\n",
    "\n",
    "mycursor.executemany(sql, val)\n",
    "mydb.commit()\n",
    "\n",
    "print(mycursor.rowcount, \"was inserted.\")"
   ]
  },
  {
   "cell_type": "code",
   "execution_count": 28,
   "id": "a3b14ad8",
   "metadata": {
    "code_folding": [
     0
    ],
    "run_control": {
     "marked": false
    }
   },
   "outputs": [
    {
     "name": "stdout",
     "output_type": "stream",
     "text": [
      "42 was inserted.\n"
     ]
    }
   ],
   "source": [
    "#Insert values in Table tb_person\n",
    "mycursor = mydb.cursor()\n",
    "sql = \"INSERT INTO movies.tb_person (person_id, person_name, person_country, person_dob, person_dod, person_parent_id) VALUES (%s, %s, %s, %s, %s, %s)\"\n",
    "val = [   \n",
    "\n",
    "( 1, 'Francis Ford Coppola', 'United States', '1939-04-07', None, None),\n",
    "( 2, 'Carmine Coppola', 'United States', '1945-07-08', None, None),\n",
    "( 3, 'Marlon Brando', 'United States', '1924-04-03', '2004-07-01', None),\n",
    "( 4, 'Robert Duvall', 'United States', '1931-01-05', None, None),\n",
    "( 5, 'Martin Sheen', 'United States', '1940-08-03', None, None),\n",
    "( 6, 'Harrison Ford', 'United States', '1942-07-13', None, None),\n",
    "( 7, 'George Lucas', 'United States', '1944-05-14', None, None),\n",
    "( 8, 'Gary Kurtz', 'United States', '1940-07-27', None, None),\n",
    "( 9, 'Steven Spielberg', 'United States', '1946-12-18', None, None),\n",
    "(10, 'John Williams', 'United States', '1928-08-08', None, None),\n",
    "(11, 'Tom Hanks', 'United States', '1956-07-09', None, None),\n",
    "(12, 'Catherine Zeta-Jones', 'Wales', '1969-09-25', None, None),\n",
    "(13, 'Alfred Joseph Hitchcock', 'United Kingdom', '1899-08-13', '1980-04-29', None),\n",
    "(14, 'Anthony Perkins', 'United States', '1934-04-04', '1992-09-08', None),\n",
    "(15, 'Vera Miles', 'United States', '1929-08-23', None, None),\n",
    "(16, 'Emilio Martinez Lazaro', 'Spain', '1956-09-09', None, None),\n",
    "(17, 'Dani Rovira', 'Spain', '1984-07-01', None, None),\n",
    "(18, 'Clara Lago', 'Spain', '1986-04-17', None, None),\n",
    "(19, 'Carmen Machi', 'Spain', '1964-08-09', None, None),\n",
    "(20, 'Karra Elejalde', 'Spain', '1960-03-06', None, None),\n",
    "(21, 'Daniel Sanchez Arevalo', 'Spain', '1970-06-08', None, None),\n",
    "(22, 'Quim Gutierrez', 'Spain', '1981-03-27', None, None),\n",
    "(23, 'Robert Alamo', 'Spain', '1970-05-06', None, None),\n",
    "(24, 'Hector Colome', 'Spain', '1944-10-25', '2015-02-28', None),\n",
    "(25, 'Veronica Echegui', 'Spain', '1983-03-14', None, None),\n",
    "(26, 'Patrick Criado', 'Spain', '1995-09-23', None, None),\n",
    "(27, 'Sean Connery', 'Scotland', '1930-07-08', None, None),\n",
    "(28, 'Mel Gibson', 'Australia', '1950-08-09', None, None),\n",
    "(29, 'Morgan Freeman', 'United States', '1935-10-01', None, None),\n",
    "(30, 'Tim Robbins', 'United States', '1949-06-07', None, None),\n",
    "(41, 'Charlie Sheen', 'United States', '1965-09-03', None, 5),\n",
    "(42, 'Emilio Estevez', 'United States', '1962-05-12', None, 5),\n",
    "(43, 'Ramón Estevez', 'United States', '1963-08-07', None, 5),\n",
    "(44, 'Reneé Estevez', 'United States', '1967-04-02', None, 5),\n",
    "(45, 'Paula Speert Sheen', 'United States', '1986-01-06', None,41),\n",
    "(46, 'Bob Sheen', 'United States', '2009-05-01', None,41),\n",
    "(47, 'Max Sheen', 'United States', '2009-05-01', None,41),\n",
    "(48, 'Sam Sheen', 'United States', '2004-03-09', None,41),\n",
    "(49, 'Lola Sheen', 'United States', '2005-06-01', None,41),\n",
    "(50, 'Paula Jones-Sheen', 'United States', '2003-07-06', None,45),\n",
    "(51, 'Paloma Rae Estevez', 'United States', '1986-02-15', None,42),\n",
    "(52, 'Taylor Levi Estevez', 'United States', '1984-06-22', None,42),\n",
    "]\n",
    "\n",
    "mycursor.executemany(sql, val)\n",
    "mydb.commit()\n",
    "\n",
    "print(mycursor.rowcount, \"was inserted.\")"
   ]
  },
  {
   "cell_type": "code",
   "execution_count": 29,
   "id": "4765f3bb",
   "metadata": {
    "code_folding": [],
    "run_control": {
     "marked": true
    }
   },
   "outputs": [
    {
     "name": "stdout",
     "output_type": "stream",
     "text": [
      "50 was inserted.\n"
     ]
    }
   ],
   "source": [
    "#Insert values in Table tb_movie_person\n",
    "mycursor = mydb.cursor()\n",
    "sql = \"INSERT INTO movies.tb_movie_person (movie_id, person_id, role_id, movie_award_ind) VALUES (%s, %s, %s, %s)\"\n",
    "val = [   \n",
    "    \n",
    "( 1, 1, 2, 'Y'),\n",
    "( 1, 1, 3, 'N'),\n",
    "( 1, 1, 5, 'N'),\n",
    "( 1, 2, 5, 'N'),\n",
    "( 1, 3, 1, 'N'),\n",
    "( 1, 4, 1, 'N'),\n",
    "( 1, 5, 1, 'Y'),\n",
    "( 1,41, 1, 'N'),\n",
    "( 1, 6, 1, 'N'),\n",
    "( 2, 6, 1, 'N'),\n",
    "( 2, 7, 2, 'Y'),\n",
    "( 2, 8, 3, 'N'),\n",
    "( 3, 6, 1, 'N'),\n",
    "( 3, 7, 4, 'N'),\n",
    "( 3, 9, 2, 'N'),\n",
    "( 3,10, 5, 'N'),\n",
    "( 4, 9, 2, 'N'),\n",
    "( 4, 9, 3, 'N'),\n",
    "( 4,11, 1, 'N'),\n",
    "( 4,12, 1, 'N'),\n",
    "( 5, 9, 2, 'N'),\n",
    "( 6, 9, 2, 'N'),\n",
    "( 7,13, 1, 'N'),\n",
    "( 7,13, 2, 'N'),\n",
    "( 7,13, 3, 'N'),\n",
    "( 7,14, 2, 'N'),\n",
    "( 7,15, 2, 'N'),\n",
    "( 3, 7, 1, 'N'),\n",
    "( 8,16, 2, 'N'),\n",
    "( 9,16, 2, 'N'),\n",
    "( 8,17, 1, 'N'),\n",
    "( 8,18, 1, 'N'),\n",
    "( 8,19, 1, 'N'),\n",
    "( 8,20, 1, 'N'),\n",
    "( 9,17, 1, 'N'),\n",
    "( 9,18, 1, 'N'),\n",
    "( 9,19, 1, 'N'),\n",
    "( 9,20, 1, 'N'),\n",
    "(10,16, 2, 'N'),\n",
    "(11,21, 2, 'N'),\n",
    "(11,21, 4, 'N'),\n",
    "(11,22, 1, 'N'),\n",
    "(11,23, 1, 'N'),\n",
    "(11,24, 1, 'N'),\n",
    "(11,25, 1, 'N'),\n",
    "(11,26, 1, 'N'),\n",
    "(13,28, 1, 'Y'),\n",
    "(13,28, 2, 'N'),\n",
    "(14,29, 1, 'N'),\n",
    "(14,30, 1, 'N')\n",
    "]\n",
    "\n",
    "mycursor.executemany(sql, val)\n",
    "mydb.commit()\n",
    "\n",
    "print(mycursor.rowcount, \"was inserted.\")"
   ]
  },
  {
   "cell_type": "markdown",
   "id": "8749ec3e",
   "metadata": {},
   "source": [
    "<span style=color:green><b>BASE DE DADES RELACIONAL AMB MySQL</u></b></span> \n",
    "\n",
    "Hem creat una Base de Dades anomenada \"movies\" y que consta d eles següents taules:\n",
    "\n",
    "1) tb_movie_person\n",
    "2) tb_person\n",
    "3) tb_role\n",
    "4) tb_movie\n",
    "5) tb_genre\n",
    "\n",
    "La taula \"tb_genre\" té com a clau principal \"genre_id\", que a la mateixa vegada s'utilita per relacionar amb la taula \"tb_movie\".\n",
    "\n",
    "La taula \"tb_person\" té com a clau principal \"person_id\", que a la mateixa vegada s'utilita per relacionar amb la taula \"tb_movie_person\".\n",
    "\n",
    "La taula \"tb_role\" té com a clau principal \"role_id\", que a la mateixa vegada s'utilita per relacionar amb la taula \"tb_movie_person\".\n",
    "\n",
    "La taula \"tb_movie\" té com a clau principal \"movie_id\", que a la mateixa vegada s'utilita per relacionar amb la taula \"tb_movie_person\"."
   ]
  },
  {
   "cell_type": "code",
   "execution_count": 5,
   "id": "8b64b3db",
   "metadata": {
    "code_folding": [],
    "run_control": {
     "marked": true
    }
   },
   "outputs": [
    {
     "name": "stdout",
     "output_type": "stream",
     "text": [
      "('John Williams', 'United States', datetime.date(1928, 8, 8))\n",
      "('Vera Miles', 'United States', datetime.date(1929, 8, 23))\n",
      "('Sean Connery', 'Scotland', datetime.date(1930, 7, 8))\n",
      "('Robert Duvall', 'United States', datetime.date(1931, 1, 5))\n",
      "('Morgan Freeman', 'United States', datetime.date(1935, 10, 1))\n",
      "('Francis Ford Coppola', 'United States', datetime.date(1939, 4, 7))\n",
      "('Gary Kurtz', 'United States', datetime.date(1940, 7, 27))\n",
      "('Martin Sheen', 'United States', datetime.date(1940, 8, 3))\n",
      "('Harrison Ford', 'United States', datetime.date(1942, 7, 13))\n",
      "('George Lucas', 'United States', datetime.date(1944, 5, 14))\n",
      "('Carmine Coppola', 'United States', datetime.date(1945, 7, 8))\n",
      "('Steven Spielberg', 'United States', datetime.date(1946, 12, 18))\n",
      "('Tim Robbins', 'United States', datetime.date(1949, 6, 7))\n",
      "('Mel Gibson', 'Australia', datetime.date(1950, 8, 9))\n",
      "('Tom Hanks', 'United States', datetime.date(1956, 7, 9))\n",
      "('Emilio Martinez Lazaro', 'Spain', datetime.date(1956, 9, 9))\n",
      "('Karra Elejalde', 'Spain', datetime.date(1960, 3, 6))\n",
      "('Emilio Estevez', 'United States', datetime.date(1962, 5, 12))\n",
      "('Ramón Estevez', 'United States', datetime.date(1963, 8, 7))\n",
      "('Carmen Machi', 'Spain', datetime.date(1964, 8, 9))\n",
      "('Charlie Sheen', 'United States', datetime.date(1965, 9, 3))\n",
      "('Reneé Estevez', 'United States', datetime.date(1967, 4, 2))\n",
      "('Catherine Zeta-Jones', 'Wales', datetime.date(1969, 9, 25))\n",
      "('Robert Alamo', 'Spain', datetime.date(1970, 5, 6))\n",
      "('Daniel Sanchez Arevalo', 'Spain', datetime.date(1970, 6, 8))\n",
      "('Quim Gutierrez', 'Spain', datetime.date(1981, 3, 27))\n",
      "('Veronica Echegui', 'Spain', datetime.date(1983, 3, 14))\n",
      "('Taylor Levi Estevez', 'United States', datetime.date(1984, 6, 22))\n",
      "('Dani Rovira', 'Spain', datetime.date(1984, 7, 1))\n",
      "('Paula Speert Sheen', 'United States', datetime.date(1986, 1, 6))\n",
      "('Paloma Rae Estevez', 'United States', datetime.date(1986, 2, 15))\n",
      "('Clara Lago', 'Spain', datetime.date(1986, 4, 17))\n",
      "('Patrick Criado', 'Spain', datetime.date(1995, 9, 23))\n",
      "('Paula Jones-Sheen', 'United States', datetime.date(2003, 7, 6))\n",
      "('Sam Sheen', 'United States', datetime.date(2004, 3, 9))\n",
      "('Lola Sheen', 'United States', datetime.date(2005, 6, 1))\n",
      "('Bob Sheen', 'United States', datetime.date(2009, 5, 1))\n",
      "('Max Sheen', 'United States', datetime.date(2009, 5, 1))\n"
     ]
    }
   ],
   "source": [
    "##########################################################################\n",
    "##                 DATA SCIENCE: M01.T01: Exercici 2                    ##\n",
    "##########################################################################\n",
    "# Exercici 2: Realitza la següent consulta sobre la base de dades acabada de crear: \n",
    "# Has d'obtenir el nom, el país i la data de naixement d'aquelles persones per \n",
    "# les quals no consti una data de mort i ordenar les dades de la persona més \n",
    "# vella a la persona més jove.\n",
    "\n",
    "mycursor = mydb.cursor()\n",
    "mycursor.execute(\"SELECT person_name, person_country,person_dob FROM movies.tb_person WHERE person_dod is NULL ORDER BY person_dob\") \n",
    "\n",
    "myresult = mycursor.fetchall()\n",
    "\n",
    "for x in myresult:\n",
    "  print(x)"
   ]
  },
  {
   "cell_type": "code",
   "execution_count": 6,
   "id": "aca85ba9",
   "metadata": {
    "code_folding": [],
    "run_control": {
     "marked": false
    }
   },
   "outputs": [
    {
     "name": "stdout",
     "output_type": "stream",
     "text": [
      "(4, 'The Terminal', datetime.date(2004, 6, 18), 3)\n",
      "(8, 'Ocho Apellidos Vascos', datetime.date(2014, 3, 14), 3)\n",
      "(9, 'Ocho Apellidos Catalanes', datetime.date(2016, 6, 9), 3)\n"
     ]
    }
   ],
   "source": [
    "##########################################################################\n",
    "##                 DATA SCIENCE: M01.T01: Exercici 3                    ##\n",
    "##########################################################################\n",
    "# Exercici 3: Realitza la següent consulta sobre la base de dades acabada de crear: \n",
    "# Has d'obtenir el nom del gènere i el nombre total de pel·lícules d'aquest\n",
    "# gènere i ordenar-ho per ordre descendent de nombre total de pel·lícules. \n",
    "\n",
    "\n",
    "mycursor = mydb.cursor()\n",
    "mycursor.execute(\"SELECT movie_id, movie_title, movie_date, movie_genre_id FROM movies.tb_movie WHERE movie_genre_id='3' ORDER BY movie_date\") \n",
    "\n",
    "myresult = mycursor.fetchall()\n",
    "\n",
    "for x in myresult:\n",
    "  print(x)"
   ]
  },
  {
   "cell_type": "code",
   "execution_count": 54,
   "id": "e448f8d6",
   "metadata": {
    "code_folding": [],
    "run_control": {
     "marked": true
    }
   },
   "outputs": [
    {
     "name": "stdout",
     "output_type": "stream",
     "text": [
      "-----------------------------------\n",
      "          Exercici 4.1:            \n",
      "-----------------------------------\n",
      "(1, 1, 3)\n",
      "(1, 2, 1)\n",
      "(1, 3, 1)\n",
      "(1, 4, 1)\n",
      "(1, 5, 1)\n",
      "(1, 6, 1)\n",
      "(2, 6, 1)\n",
      "(3, 6, 1)\n",
      "(2, 7, 1)\n",
      "(3, 7, 2)\n",
      "(2, 8, 1)\n",
      "(3, 9, 1)\n",
      "(4, 9, 2)\n",
      "(5, 9, 1)\n",
      "(6, 9, 1)\n",
      "(3, 10, 1)\n",
      "(4, 11, 1)\n",
      "(4, 12, 1)\n",
      "(7, 13, 3)\n",
      "(7, 14, 1)\n",
      "(7, 15, 1)\n",
      "(8, 16, 1)\n",
      "(9, 16, 1)\n",
      "(10, 16, 1)\n",
      "(8, 17, 1)\n",
      "(9, 17, 1)\n",
      "(8, 18, 1)\n",
      "(9, 18, 1)\n",
      "(8, 19, 1)\n",
      "(9, 19, 1)\n",
      "(8, 20, 1)\n",
      "(9, 20, 1)\n",
      "(11, 21, 2)\n",
      "(11, 22, 1)\n",
      "(11, 23, 1)\n",
      "(11, 24, 1)\n",
      "(11, 25, 1)\n",
      "(11, 26, 1)\n",
      "(13, 28, 2)\n",
      "(14, 29, 1)\n",
      "(14, 30, 1)\n",
      "(1, 41, 1)\n",
      "-----------------------------------\n",
      "          Exercici 4.2:            \n",
      "-----------------------------------\n"
     ]
    }
   ],
   "source": [
    "##########################################################################\n",
    "##                 DATA SCIENCE: M01.T01: Exercici 4                    ##\n",
    "##########################################################################\n",
    "# Exercici 4: Realitza la següent consulta sobre la base de dades acabada de crear: \n",
    "\n",
    "# Has d'obtenir, per a cada persona, el seu nom i el nombre màxim de rols \n",
    "# diferents que ha tingut en una mateixa pel·lícula. (1)\n",
    "\n",
    "mycursor = mydb.cursor()\n",
    "\n",
    "sql =  \"SELECT \\\n",
    "          movie_id, person_id, COUNT(*) AS num\\\n",
    "          FROM movies.tb_movie_person AS a\\\n",
    "          GROUP BY a.person_id, a.movie_id\"\n",
    "\n",
    "\n",
    "mycursor.execute(sql) \n",
    "\n",
    "myresult = mycursor.fetchall()\n",
    "\n",
    "print(\"-----------------------------------\")\n",
    "print(\"          Exercici 4.1:            \")\n",
    "print(\"-----------------------------------\")\n",
    "for x in myresult:\n",
    "  print(x)\n",
    "\n",
    "# Posteriorment, mostra únicament aquelles persones que hagin assumit més \n",
    "# d'un rol en una mateixa pel·lícula. (2)\n",
    "\n",
    "sql =   \"SELECT \\\n",
    "          movie_id, person_id, COUNT(*) AS num \\\n",
    "          FROM movies.tb_movie_person AS a\\\n",
    "          WHERE ('num'>1)\\\n",
    "          GROUP BY a.movie_id, a.person_id\"\n",
    "\n",
    "mycursor.execute(sql) \n",
    "\n",
    "myresult = mycursor.fetchall()\n",
    "\n",
    "print(\"-----------------------------------\")\n",
    "print(\"          Exercici 4.2:            \")\n",
    "print(\"-----------------------------------\")\n",
    "\n",
    "for x in myresult:\n",
    "  print(x)"
   ]
  },
  {
   "cell_type": "code",
   "execution_count": 54,
   "id": "d4350d99",
   "metadata": {
    "code_folding": [
     0
    ],
    "run_control": {
     "marked": true
    }
   },
   "outputs": [
    {
     "name": "stdout",
     "output_type": "stream",
     "text": [
      "1 record inserted.\n"
     ]
    }
   ],
   "source": [
    "##########################################################################\n",
    "##                 DATA SCIENCE: M01.T01: Exercici 5                    ##\n",
    "##########################################################################\n",
    "# Exercici 5: Realitza la següent operació sobre la base de dades acabada de crear: \n",
    "\n",
    "# Has de crear un nou gènere anomenat \"Documental\" el qual tingui com a \n",
    "# identificador el nombre 69.\n",
    "\n",
    "mycursor = mydb.cursor()\n",
    "sql = \"INSERT INTO movies.tb_genre (genre_id, genre_name)  VALUES (%s, %s)\"\n",
    "val = (69, 'Documental')\n",
    "mycursor.execute(sql, val)\n",
    "\n",
    "mydb.commit()\n",
    "\n",
    "print(mycursor.rowcount, \"record inserted.\")"
   ]
  },
  {
   "cell_type": "code",
   "execution_count": 68,
   "id": "baa85313",
   "metadata": {
    "run_control": {
     "marked": false
    }
   },
   "outputs": [
    {
     "name": "stdout",
     "output_type": "stream",
     "text": [
      "0 record(s) deleted\n"
     ]
    }
   ],
   "source": [
    "##########################################################################\n",
    "##                 DATA SCIENCE: M01.T01: Exercici 6                    ##\n",
    "##########################################################################\n",
    "# Exercici 6: Fes la següent operació sobre la base de dades acabada de crear:  \n",
    "# Elimina la pel·lícula \"La Gran Familia Española\" de la base de dades.\n",
    "\n",
    "\n",
    "mycursor = mydb.cursor()\n",
    "sql = \"SET FOREIGN_KEY_CHECKS=0\" #-- to disable them\n",
    "mycursor.execute(sql)\n",
    "sql = \"DELETE FROM movies.tb_movie WHERE movie_title = 'La Gran Familia Española'\"\n",
    "\n",
    "mycursor.execute(sql)\n",
    "sql = \"SET FOREIGN_KEY_CHECKS=1\" #-- to re-enable them\n",
    "mycursor.execute(sql)\n",
    "\n",
    "mydb.commit()\n",
    "\n",
    "print(mycursor.rowcount, \"record(s) deleted\")"
   ]
  },
  {
   "cell_type": "code",
   "execution_count": 64,
   "id": "b34034b5",
   "metadata": {},
   "outputs": [
    {
     "name": "stdout",
     "output_type": "stream",
     "text": [
      "1 record(s) affected\n"
     ]
    }
   ],
   "source": [
    "##########################################################################\n",
    "##                 DATA SCIENCE: M01.T01: Exercici 7                    ##\n",
    "##########################################################################\n",
    "# Exercici 7: Realitza la següent operació sobre la base de dades acabada de crear: \n",
    "\n",
    "#Canvia el gènere de la pel·lícula \"Ocho apellidos catalanes\" perquè consti \n",
    "# com a comèdia i no com a romàntica.\n",
    "\n",
    "mycursor = mydb.cursor()\n",
    "\n",
    "sql = \"UPDATE movies.tb_movie SET movie_genre_id = '3' WHERE movie_title = 'Ocho apellidos catalanes'\"\n",
    "\n",
    "mycursor.execute(sql)\n",
    "\n",
    "mydb.commit()\n",
    "\n",
    "print(mycursor.rowcount, \"record(s) affected\")\n"
   ]
  },
  {
   "cell_type": "code",
   "execution_count": null,
   "id": "d8b41869",
   "metadata": {},
   "outputs": [],
   "source": []
  },
  {
   "cell_type": "code",
   "execution_count": null,
   "id": "f5871666",
   "metadata": {},
   "outputs": [],
   "source": []
  }
 ],
 "metadata": {
  "hide_input": false,
  "kernelspec": {
   "display_name": "Python 3 (ipykernel)",
   "language": "python",
   "name": "python3"
  },
  "language_info": {
   "codemirror_mode": {
    "name": "ipython",
    "version": 3
   },
   "file_extension": ".py",
   "mimetype": "text/x-python",
   "name": "python",
   "nbconvert_exporter": "python",
   "pygments_lexer": "ipython3",
   "version": "3.9.7"
  },
  "nbTranslate": {
   "displayLangs": [
    "*"
   ],
   "hotkey": "alt-t",
   "langInMainMenu": true,
   "sourceLang": "en",
   "targetLang": "fr",
   "useGoogleTranslate": true
  },
  "toc": {
   "base_numbering": 1,
   "nav_menu": {},
   "number_sections": true,
   "sideBar": true,
   "skip_h1_title": false,
   "title_cell": "Table of Contents",
   "title_sidebar": "Contents",
   "toc_cell": false,
   "toc_position": {},
   "toc_section_display": true,
   "toc_window_display": false
  },
  "varInspector": {
   "cols": {
    "lenName": 16,
    "lenType": 16,
    "lenVar": 40
   },
   "kernels_config": {
    "python": {
     "delete_cmd_postfix": "",
     "delete_cmd_prefix": "del ",
     "library": "var_list.py",
     "varRefreshCmd": "print(var_dic_list())"
    },
    "r": {
     "delete_cmd_postfix": ") ",
     "delete_cmd_prefix": "rm(",
     "library": "var_list.r",
     "varRefreshCmd": "cat(var_dic_list()) "
    }
   },
   "types_to_exclude": [
    "module",
    "function",
    "builtin_function_or_method",
    "instance",
    "_Feature"
   ],
   "window_display": false
  }
 },
 "nbformat": 4,
 "nbformat_minor": 5
}
